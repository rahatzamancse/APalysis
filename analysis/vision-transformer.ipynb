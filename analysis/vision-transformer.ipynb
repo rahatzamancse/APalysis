{
 "cells": [
  {
   "cell_type": "code",
   "execution_count": 13,
   "metadata": {},
   "outputs": [],
   "source": [
    "import tensorflow as tf\n",
    "from transformers import ViTFeatureExtractor, TFViTForImageClassification\n",
    "import tensorflow_datasets as tfds\n",
    "from PIL import Image\n",
    "import numpy as np\n",
    "import matplotlib.pyplot as plt\n",
    "\n"
   ]
  },
  {
   "cell_type": "code",
   "execution_count": 5,
   "metadata": {},
   "outputs": [
    {
     "name": "stderr",
     "output_type": "stream",
     "text": [
      "All PyTorch model weights were used when initializing TFViTForImageClassification.\n",
      "\n",
      "All the weights of TFViTForImageClassification were initialized from the PyTorch model.\n",
      "If your task is similar to the task the model of the checkpoint was trained on, you can already use TFViTForImageClassification for predictions without further training.\n",
      "/home/insane/.cache/pypoetry/virtualenvs/channelexplorer-ajWhp0a7-py3.10/lib/python3.10/site-packages/transformers/models/vit/feature_extraction_vit.py:28: FutureWarning: The class ViTFeatureExtractor is deprecated and will be removed in version 5 of Transformers. Please use ViTImageProcessor instead.\n",
      "  warnings.warn(\n"
     ]
    }
   ],
   "source": [
    "# Load a pretrained Vision Transformer model from Hugging Face (TensorFlow)\n",
    "model_name = \"google/vit-base-patch16-224\"\n",
    "model = TFViTForImageClassification.from_pretrained(model_name)\n",
    "\n",
    "imagenette = tfds.load(\"imagenette/160px\", split=\"train\", as_supervised=False, batch_size=None)"
   ]
  },
  {
   "cell_type": "code",
   "execution_count": 34,
   "metadata": {},
   "outputs": [
    {
     "name": "stderr",
     "output_type": "stream",
     "text": [
      "2024-09-16 21:24:26.144999: W tensorflow/core/kernels/data/cache_dataset_ops.cc:858] The calling iterator did not fully read the dataset being cached. In order to avoid unexpected truncation of the dataset, the partially cached contents of the dataset  will be discarded. This can happen if you have an input pipeline similar to `dataset.cache().take(k).repeat()`. You should use `dataset.take(k).cache().repeat()` instead.\n"
     ]
    },
    {
     "data": {
      "text/plain": [
       "TensorShape([5, 3, 224, 224])"
      ]
     },
     "execution_count": 34,
     "metadata": {},
     "output_type": "execute_result"
    }
   ],
   "source": [
    "\n",
    "# Load and preprocess the image\n",
    "def ViT_preprocessor(x):\n",
    "    feature_extractor = ViTFeatureExtractor.from_pretrained(model_name)\n",
    "    x = x['image']\n",
    "    x = tf.image.resize(x, (224, 224)) / 255.0\n",
    "    x = feature_extractor(images=x, return_tensors=\"tf\")\n",
    "    x = x['pixel_values']\n",
    "    return x\n",
    "inputs = []\n",
    "for i in imagenette.take(5):\n",
    "    x = ViT_preprocessor(i)\n",
    "    inputs.append(x)\n",
    "    \n",
    "inputs = tf.concat(inputs, axis=0)\n",
    "inputs.shape"
   ]
  },
  {
   "cell_type": "code",
   "execution_count": 40,
   "metadata": {},
   "outputs": [
    {
     "name": "stdout",
     "output_type": "stream",
     "text": [
      "Predicted class ID: [111 644 644 644 644]\n",
      "Predicted class: ['nematode, nematode worm, roundworm', 'matchstick', 'matchstick', 'matchstick', 'matchstick']\n"
     ]
    }
   ],
   "source": [
    "# Perform inference\n",
    "outputs = model(inputs)\n",
    "logits = outputs.logits\n",
    "\n",
    "# Get the predicted class\n",
    "predicted_class = tf.argmax(logits, axis=-1).numpy()\n",
    "print(f\"Predicted class ID: {predicted_class}\")\n",
    "\n",
    "# Get the class label (optional)\n",
    "class_names = model.config.id2label\n",
    "print(f\"Predicted class: {[class_names[p] for p in predicted_class]}\")\n"
   ]
  },
  {
   "cell_type": "code",
   "execution_count": null,
   "metadata": {},
   "outputs": [],
   "source": []
  }
 ],
 "metadata": {
  "kernelspec": {
   "display_name": "channelexplorer-ajWhp0a7-py3.10",
   "language": "python",
   "name": "python3"
  },
  "language_info": {
   "codemirror_mode": {
    "name": "ipython",
    "version": 3
   },
   "file_extension": ".py",
   "mimetype": "text/x-python",
   "name": "python",
   "nbconvert_exporter": "python",
   "pygments_lexer": "ipython3",
   "version": "3.10.14"
  }
 },
 "nbformat": 4,
 "nbformat_minor": 2
}
