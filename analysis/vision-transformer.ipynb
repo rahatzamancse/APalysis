{
 "cells": [
  {
   "cell_type": "code",
   "execution_count": 3,
   "metadata": {},
   "outputs": [],
   "source": [
    "import tensorflow as tf\n",
    "from transformers import ViTFeatureExtractor, TFViTForImageClassification\n",
    "from PIL import Image\n",
    "import requests\n",
    "import numpy as np\n"
   ]
  },
  {
   "cell_type": "code",
   "execution_count": 2,
   "metadata": {},
   "outputs": [
    {
     "name": "stderr",
     "output_type": "stream",
     "text": [
      "All PyTorch model weights were used when initializing TFViTForImageClassification.\n",
      "\n",
      "All the weights of TFViTForImageClassification were initialized from the PyTorch model.\n",
      "If your task is similar to the task the model of the checkpoint was trained on, you can already use TFViTForImageClassification for predictions without further training.\n"
     ]
    }
   ],
   "source": [
    "\n",
    "# Load a pretrained Vision Transformer model from Hugging Face (TensorFlow)\n",
    "model_name = \"google/vit-base-patch16-224\"\n",
    "model = TFViTForImageClassification.from_pretrained(model_name)\n",
    "feature_extractor = ViTFeatureExtractor.from_pretrained(model_name)\n"
   ]
  },
  {
   "cell_type": "code",
   "execution_count": 7,
   "metadata": {},
   "outputs": [],
   "source": [
    "\n",
    "# Load and preprocess the image\n",
    "image = Image.open(\"cat.jpg\")\n",
    "\n",
    "# Preprocess the image: resize, normalize, and prepare for the model\n",
    "inputs = feature_extractor(images=image, return_tensors=\"tf\")\n",
    "pixel_values = inputs[\"pixel_values\"]  # The preprocessed image\n"
   ]
  },
  {
   "cell_type": "code",
   "execution_count": 8,
   "metadata": {},
   "outputs": [
    {
     "name": "stdout",
     "output_type": "stream",
     "text": [
      "Predicted class ID: 281\n",
      "Predicted class: tabby, tabby cat\n"
     ]
    }
   ],
   "source": [
    "\n",
    "# Perform inference\n",
    "outputs = model(pixel_values)\n",
    "logits = outputs.logits\n",
    "\n",
    "# Get the predicted class\n",
    "predicted_class = tf.argmax(logits, axis=-1).numpy()[0]\n",
    "print(f\"Predicted class ID: {predicted_class}\")\n",
    "\n",
    "# Get the class label (optional)\n",
    "class_names = model.config.id2label\n",
    "print(f\"Predicted class: {class_names[predicted_class]}\")\n"
   ]
  },
  {
   "cell_type": "code",
   "execution_count": null,
   "metadata": {},
   "outputs": [],
   "source": []
  }
 ],
 "metadata": {
  "kernelspec": {
   "display_name": "channelexplorer-ajWhp0a7-py3.10",
   "language": "python",
   "name": "python3"
  },
  "language_info": {
   "codemirror_mode": {
    "name": "ipython",
    "version": 3
   },
   "file_extension": ".py",
   "mimetype": "text/x-python",
   "name": "python",
   "nbconvert_exporter": "python",
   "pygments_lexer": "ipython3",
   "version": "3.10.14"
  }
 },
 "nbformat": 4,
 "nbformat_minor": 2
}
