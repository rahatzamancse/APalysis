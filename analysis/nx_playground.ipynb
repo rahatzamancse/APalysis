{
 "cells": [
  {
   "cell_type": "code",
   "execution_count": 1,
   "metadata": {},
   "outputs": [],
   "source": [
    "import networkx as nx"
   ]
  },
  {
   "cell_type": "code",
   "execution_count": 2,
   "metadata": {},
   "outputs": [
    {
     "data": {
      "text/plain": [
       "(NodeView(('a', 'b')), OutEdgeView([('a', 'b')]))"
      ]
     },
     "execution_count": 2,
     "metadata": {},
     "output_type": "execute_result"
    }
   ],
   "source": [
    "G = nx.DiGraph()\n",
    "\n",
    "G.add_node('a')\n",
    "G.add_node('b')\n",
    "G.add_edge('a', 'b')\n",
    "\n",
    "G.nodes(), G.edges()"
   ]
  },
  {
   "cell_type": "code",
   "execution_count": 4,
   "metadata": {},
   "outputs": [
    {
     "data": {
      "text/plain": [
       "(NodeView(('c', 'a', 'b', 'd', 'e')), OutEdgeView([('a', 'c'), ('d', 'e')]))"
      ]
     },
     "execution_count": 4,
     "metadata": {},
     "output_type": "execute_result"
    }
   ],
   "source": [
    "G = nx.DiGraph()\n",
    "\n",
    "G.add_node('c')\n",
    "G.add_edge('a', 'c')\n",
    "G.add_node('a')\n",
    "G.add_node('b')\n",
    "G.add_node('c')\n",
    "\n",
    "G.add_edge('d', 'e')\n",
    "\n",
    "G.nodes(), G.edges()"
   ]
  },
  {
   "cell_type": "code",
   "execution_count": null,
   "metadata": {},
   "outputs": [],
   "source": []
  }
 ],
 "metadata": {
  "kernelspec": {
   "display_name": "apalysis-LN2X8TO4-py3.12",
   "language": "python",
   "name": "python3"
  },
  "language_info": {
   "codemirror_mode": {
    "name": "ipython",
    "version": 3
   },
   "file_extension": ".py",
   "mimetype": "text/x-python",
   "name": "python",
   "nbconvert_exporter": "python",
   "pygments_lexer": "ipython3",
   "version": "3.12.4"
  }
 },
 "nbformat": 4,
 "nbformat_minor": 2
}
