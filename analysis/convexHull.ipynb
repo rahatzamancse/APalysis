{
 "cells": [
  {
   "cell_type": "code",
   "execution_count": 33,
   "metadata": {},
   "outputs": [],
   "source": [
    "import numpy as np\n",
    "import pyvista as pv\n",
    "import cdd\n",
    "from scipy.spatial import ConvexHull\n",
    "from pyvista.core.pointset import PolyData\n",
    "from sklearn.decomposition import PCA\n",
    "import tensorflow_datasets as tfds"
   ]
  },
  {
   "cell_type": "code",
   "execution_count": 24,
   "metadata": {},
   "outputs": [
    {
     "data": {
      "application/vnd.jupyter.widget-view+json": {
       "model_id": "0206c3a86d924d58bd503bf9bcceb730",
       "version_major": 2,
       "version_minor": 0
      },
      "text/plain": [
       "Widget(value=\"<iframe src='http://localhost:41431/index.html?ui=P_0x7f3e7400af20_14&reconnect=auto' style='wid…"
      ]
     },
     "metadata": {},
     "output_type": "display_data"
    }
   ],
   "source": [
    "# take one cube\n",
    "cube1: PolyData = pv.Cube()\n",
    "# take the same cube but translate it \n",
    "cube2: PolyData = pv.Cube() \n",
    "cube2 = cube2.translate((0.5, 0.5, 0.5))\n",
    "\n",
    "# plot \n",
    "pltr = pv.Plotter(window_size=[512,512])\n",
    "pltr.add_mesh(cube1)\n",
    "pltr.add_mesh(cube2)\n",
    "pltr.show()"
   ]
  },
  {
   "cell_type": "code",
   "execution_count": 56,
   "metadata": {},
   "outputs": [
    {
     "name": "stdout",
     "output_type": "stream",
     "text": [
      "V-representation\n",
      "begin\n",
      " 9 5 real\n",
      "  1  1.300000000E+00  3.000000000E-01  1  1.100000000E+00\n",
      "  1  1.300000000E+00  3.000000000E-01  3.000000000E-01  1.100000000E+00\n",
      "  1  3.000000000E-01  3.000000000E-01  1  1.100000000E+00\n",
      "  1  3.000000000E-01  3.000000000E-01  3.000000000E-01  1.100000000E+00\n",
      "  1  3.000000000E-01  1.300000000E+00  3.000000000E-01  1.100000000E+00\n",
      "  1  3.000000000E-01  1.300000000E+00  1  1.100000000E+00\n",
      "  1  1.300000000E+00  1.300000000E+00  3.000000000E-01  1.100000000E+00\n",
      "  1  1.300000000E+00  1.300000000E+00  1  1.100000000E+00\n",
      "  0  0  0  0  1\n",
      "end\n",
      "[[1.3 0.3 1.  1.1]\n",
      " [1.3 0.3 0.3 1.1]\n",
      " [0.3 0.3 1.  1.1]\n",
      " [0.3 0.3 0.3 1.1]\n",
      " [0.3 1.3 0.3 1.1]\n",
      " [0.3 1.3 1.  1.1]\n",
      " [1.3 1.3 0.3 1.1]\n",
      " [1.3 1.3 1.  1.1]\n",
      " [0.  0.  0.  1. ]]\n"
     ]
    },
    {
     "data": {
      "text/plain": [
       "<scipy.spatial._qhull.ConvexHull at 0x7f3e69748c70>"
      ]
     },
     "execution_count": 56,
     "metadata": {},
     "output_type": "execute_result"
    }
   ],
   "source": [
    "pts1 = cube1.points\n",
    "pts2 = cube2.points\n",
    "\n",
    "pts1 = np.array([\n",
    "    [0, 0, 0, 0.5],\n",
    "    [0, 0, 1, 0.5],\n",
    "    # [0, 1, 0, 0.5],\n",
    "    # [0, 1, 1, 0.5],\n",
    "    # [1, 0, 0, 0.5],\n",
    "    # [1, 0, 1, 0.5],\n",
    "    # [1, 1, 0, 0.5],\n",
    "    # [1, 1, 1, 0.5],\n",
    "    # [0.5, 0.5, 0.5, 0.5]\n",
    "])\n",
    "\n",
    "pts2 = np.array([\n",
    "    [0, 0, 0, 0.8],\n",
    "    [0, 0, 1, 0.8],\n",
    "    [0, 1, 0, 0.8],\n",
    "    [0, 1, 1, 0.8],\n",
    "    [1, 0, 0, 0.8],\n",
    "    [1, 0, 1, 0.8],\n",
    "    [1, 1, 0, 0.8],\n",
    "    [1, 1, 1, 0.8]\n",
    "]) + 0.3\n",
    "\n",
    "# make the V-representation of the first cube; you have to prepend\n",
    "# with a column of ones\n",
    "v1 = np.column_stack((np.ones(len(pts1)), pts1))\n",
    "\n",
    "mat = cdd.Matrix(v1, number_type='float') # use fractions if possible\n",
    "mat.rep_type = cdd.RepType.GENERATOR\n",
    "poly1 = cdd.Polyhedron(mat)\n",
    "\n",
    "# make the V-representation of the second cube; you have to prepend\n",
    "# with a column of ones\n",
    "v2 = np.column_stack((np.ones(len(pts2)), pts2))\n",
    "\n",
    "mat = cdd.Matrix(v2, number_type='float')\n",
    "mat.rep_type = cdd.RepType.GENERATOR\n",
    "poly2 = cdd.Polyhedron(mat)\n",
    "\n",
    "# H-representation of the first cube\n",
    "h1 = poly1.get_inequalities()\n",
    "\n",
    "# H-representation of the second cube\n",
    "h2 = poly2.get_inequalities()\n",
    "\n",
    "# join the two sets of linear inequalities; this will give the intersection\n",
    "hintersection = np.vstack((h1, h2))\n",
    "\n",
    "# make the V-representation of the intersection\n",
    "mat = cdd.Matrix(hintersection, number_type='float')\n",
    "mat.rep_type = cdd.RepType.INEQUALITY\n",
    "polyintersection = cdd.Polyhedron(mat)\n",
    "\n",
    "# get the vertices; they are given in a matrix prepended by a column of ones\n",
    "vintersection = polyintersection.get_generators()\n",
    "\n",
    "print(vintersection)\n",
    "    \n",
    "# get rid of the column of ones\n",
    "ptsintersection = np.array([\n",
    "    vintersection[i][1:] for i in range(len(vintersection))\n",
    "])\n",
    "\n",
    "print(ptsintersection)\n",
    "\n",
    "# these are the vertices of the intersection; it remains to take\n",
    "# the convex hull\n",
    "ConvexHull(ptsintersection)"
   ]
  },
  {
   "cell_type": "code",
   "execution_count": 4,
   "metadata": {},
   "outputs": [],
   "source": [
    "def get_inequality(v):\n",
    "    \"\"\"\n",
    "    Returns the inequality representation of a vector considering it as polyhedron\n",
    "    \"\"\"\n",
    "    v = np.column_stack((np.ones(len(v)), v))\n",
    "    mat = cdd.Matrix(v, number_type='float')\n",
    "    mat.rep_type = cdd.RepType.GENERATOR\n",
    "    poly = cdd.Polyhedron(mat)\n",
    "    return poly.get_inequalities()\n",
    "    \n",
    "def get_convex_hull(v):\n",
    "    \"\"\"\n",
    "    Returns the convex hull of a vector considering it as polyhedron\n",
    "    \"\"\"\n",
    "    hull = ConvexHull(v)\n",
    "    return hull\n",
    "\n",
    "\n",
    "def convex_hull_intersection(inequality1, inequality2):\n",
    "    \"\"\"\n",
    "    Returns the convex hull of the intersection of two polyhedra, given as\n",
    "    the inequalities defining them.\n",
    "    you can get the inequalities from vectors like below:\n",
    "    ```python\n",
    "    v1 = np.column_stack((np.ones(len(pts1)), pts1))\n",
    "    mat = cdd.Matrix(v1, number_type='float')\n",
    "    mat.rep_type = cdd.RepType.GENERATOR\n",
    "    poly1 = cdd.Polyhedron(mat)\n",
    "    inequality1 = poly1.get_inequalities()\n",
    "    ```\n",
    "    \"\"\"\n",
    "    # convert to the H-representation\n",
    "    h = np.vstack((inequality1, inequality2))\n",
    "    mat = cdd.Matrix(h, number_type='float')\n",
    "    mat.rep_type = cdd.RepType.INEQUALITY\n",
    "    poly = cdd.Polyhedron(mat)\n",
    "\n",
    "    # get the vertices of the convex hull\n",
    "    mat = poly.get_generators()\n",
    "    mat = np.array(mat)\n",
    "    if len(mat) == 0: return 0\n",
    "    if mat.shape[0] < mat.shape[1]: return 0\n",
    "    hull = ConvexHull(mat[:, 1:])\n",
    "    return hull"
   ]
  },
  {
   "cell_type": "code",
   "execution_count": 40,
   "metadata": {},
   "outputs": [
    {
     "name": "stdout",
     "output_type": "stream",
     "text": [
      "['block1_conv1', 'block1_conv2', 'block2_conv1', 'block2_conv2', 'block3_conv1', 'block3_conv2', 'block3_conv3', 'block4_conv1', 'block4_conv2', 'block4_conv3', 'block5_conv1', 'block5_conv2', 'block5_conv3', 'flatten', 'fc1', 'fc2', 'predictions']\n",
      "['labels']\n",
      "(9469, 64)\n",
      "(9469,)\n"
     ]
    }
   ],
   "source": [
    "activations = np.load('activationSummary_imagenette.npz')\n",
    "activation_labels = np.load('labels_imagenette.npz')\n",
    "\n",
    "print(activations.files)\n",
    "print(activation_labels.files)\n",
    "print(activations['block1_conv1'].shape)\n",
    "print(activation_labels['labels'].shape)"
   ]
  },
  {
   "cell_type": "code",
   "execution_count": 41,
   "metadata": {},
   "outputs": [
    {
     "name": "stdout",
     "output_type": "stream",
     "text": [
      "(963, 512)\n",
      "(955, 512)\n",
      "H-representation\n",
      "begin\n",
      " 0 513 real\n",
      "end\n",
      "H-representation\n",
      "begin\n",
      " 0 513 real\n",
      "end\n"
     ]
    }
   ],
   "source": [
    "label1 = 0\n",
    "label2 = 1\n",
    "\n",
    "layer = 'block5_conv3'\n",
    "activations1 = activations[layer][activation_labels['labels'] == label1]\n",
    "activations2 = activations[layer][activation_labels['labels'] == label2]\n",
    "print(activations1.shape)\n",
    "print(activations2.shape)\n",
    "\n",
    "activation1_inequality = get_inequality(activations1)\n",
    "activation2_inequality = get_inequality(activations2)\n",
    "\n",
    "print(activation1_inequality)\n",
    "print(activation2_inequality)\n"
   ]
  },
  {
   "cell_type": "code",
   "execution_count": 42,
   "metadata": {},
   "outputs": [
    {
     "data": {
      "text/html": [
       "<pre style=\"white-space:pre;overflow-x:auto;line-height:normal;font-family:Menlo,'DejaVu Sans Mono',consolas,'Courier New',monospace\">┏━━━━━━━━━━━━━━━━━━━━━━━┳━━━━━━┳━━━━━┓\n",
       "┃<span style=\"font-weight: bold\"> Class                 </span>┃<span style=\"font-weight: bold\"> Mean </span>┃<span style=\"font-weight: bold\"> Std </span>┃\n",
       "┡━━━━━━━━━━━━━━━━━━━━━━━╇━━━━━━╇━━━━━┩\n",
       "│ tench.n.01            │ 69   │ 98  │\n",
       "│ english_springer.n.01 │ 70   │ 104 │\n",
       "│ cassette_player.n.01  │ 53   │ 84  │\n",
       "│ chain_saw.n.01        │ 55   │ 72  │\n",
       "│ church.n.02           │ 45   │ 79  │\n",
       "│ french_horn.n.01      │ 67   │ 98  │\n",
       "│ garbage_truck.n.01    │ 58   │ 88  │\n",
       "│ gas_pump.n.01         │ 61   │ 86  │\n",
       "│ golf_ball.n.01        │ 48   │ 94  │\n",
       "│ parachute.n.01        │ 43   │ 71  │\n",
       "└───────────────────────┴──────┴─────┘\n",
       "</pre>\n"
      ],
      "text/plain": [
       "┏━━━━━━━━━━━━━━━━━━━━━━━┳━━━━━━┳━━━━━┓\n",
       "┃\u001b[1m \u001b[0m\u001b[1mClass                \u001b[0m\u001b[1m \u001b[0m┃\u001b[1m \u001b[0m\u001b[1mMean\u001b[0m\u001b[1m \u001b[0m┃\u001b[1m \u001b[0m\u001b[1mStd\u001b[0m\u001b[1m \u001b[0m┃\n",
       "┡━━━━━━━━━━━━━━━━━━━━━━━╇━━━━━━╇━━━━━┩\n",
       "│ tench.n.01            │ 69   │ 98  │\n",
       "│ english_springer.n.01 │ 70   │ 104 │\n",
       "│ cassette_player.n.01  │ 53   │ 84  │\n",
       "│ chain_saw.n.01        │ 55   │ 72  │\n",
       "│ church.n.02           │ 45   │ 79  │\n",
       "│ french_horn.n.01      │ 67   │ 98  │\n",
       "│ garbage_truck.n.01    │ 58   │ 88  │\n",
       "│ gas_pump.n.01         │ 61   │ 86  │\n",
       "│ golf_ball.n.01        │ 48   │ 94  │\n",
       "│ parachute.n.01        │ 43   │ 71  │\n",
       "└───────────────────────┴──────┴─────┘\n"
      ]
     },
     "metadata": {},
     "output_type": "display_data"
    }
   ],
   "source": [
    "from rich.table import Table\n",
    "from rich.console import Console\n",
    "table = Table()\n",
    "table.add_column(\"Class\")\n",
    "table.add_column(\"Mean\")\n",
    "table.add_column(\"Std\")\n",
    "\n",
    "for label in range(len(set(activation_labels['labels']))):\n",
    "    activation = activations[layer][activation_labels['labels'] == label]\n",
    "    table.add_row(str(labels.names[label]), str(activation.mean(axis=1).mean().round(decimals=0).astype(int)), str(activation.std(axis=1).mean().round(decimals=0).astype(int)))\n",
    "    \n",
    "console = Console()\n",
    "console.print(table)"
   ]
  },
  {
   "cell_type": "code",
   "execution_count": 39,
   "metadata": {},
   "outputs": [
    {
     "data": {
      "text/plain": [
       "['tench.n.01',\n",
       " 'english_springer.n.01',\n",
       " 'cassette_player.n.01',\n",
       " 'chain_saw.n.01',\n",
       " 'church.n.02',\n",
       " 'french_horn.n.01',\n",
       " 'garbage_truck.n.01',\n",
       " 'gas_pump.n.01',\n",
       " 'golf_ball.n.01',\n",
       " 'parachute.n.01']"
      ]
     },
     "execution_count": 39,
     "metadata": {},
     "output_type": "execute_result"
    }
   ],
   "source": [
    "from nltk.corpus import wordnet as wn\n",
    "ds, info = tfds.load(\n",
    "    'imagenette/320px-v2',\n",
    "    shuffle_files=False,\n",
    "    with_info=True,\n",
    "    as_supervised=True,\n",
    "    batch_size=None,\n",
    ")\n",
    "labels = tfds.features.ClassLabel(\n",
    "    names=list(map(lambda l: wn.synset_from_pos_and_offset(\n",
    "        l[0], int(l[1:])).name(), info.features['label'].names))\n",
    ")\n",
    "\n",
    "labels.names"
   ]
  },
  {
   "cell_type": "code",
   "execution_count": 39,
   "metadata": {},
   "outputs": [
    {
     "name": "stdout",
     "output_type": "stream",
     "text": [
      "V-representation\n",
      "begin\n",
      " 4 3 rational\n",
      " 1 1 -1\n",
      " 1 1 1\n",
      " 1 -1 1\n",
      " 1 -1 -1\n",
      "end\n",
      "H-representation\n",
      "begin\n",
      " 4 3 rational\n",
      " 1 1 0\n",
      " 1 0 1\n",
      " 1 -1 0\n",
      " 1 0 -1\n",
      "end\n"
     ]
    }
   ],
   "source": [
    "mat = cdd.Matrix([[1, 1, 0], [1, 0, 1], [1, -1, 0], [1, 0, -1]])\n",
    "mat.rep_type = cdd.RepType.INEQUALITY\n",
    "poly = cdd.Polyhedron(mat)\n",
    "# The V-representation can be printed in the usual way:\n",
    "gen = poly.get_generators()\n",
    "h = poly.get_inequalities()\n",
    "print(gen)\n",
    "print(h)\n"
   ]
  },
  {
   "cell_type": "code",
   "execution_count": 53,
   "metadata": {},
   "outputs": [
    {
     "name": "stdout",
     "output_type": "stream",
     "text": [
      "(2, 4, 3)\n"
     ]
    },
    {
     "data": {
      "text/plain": [
       "45.45584612019144"
      ]
     },
     "execution_count": 53,
     "metadata": {},
     "output_type": "execute_result"
    }
   ],
   "source": [
    "# Define a 3D array\n",
    "a = np.array([\n",
    "    [\n",
    "        [1, 2, 3],\n",
    "        [4, 5, 6],\n",
    "        [1, 2, 3],\n",
    "        [8, 9, 10]\n",
    "    ],\n",
    "    [\n",
    "        [1, 2, 3],\n",
    "        [4, 5, 6],\n",
    "        [1, 2, 3],\n",
    "        [8, 9, 10]\n",
    "    ]\n",
    "    ])\n",
    "print(a.shape)\n",
    "np.linalg.norm(a, axis=(0,1)).sum(axis=0)"
   ]
  },
  {
   "cell_type": "code",
   "execution_count": 38,
   "metadata": {},
   "outputs": [
    {
     "name": "stdout",
     "output_type": "stream",
     "text": [
      "V-representation\n",
      "begin\n",
      " 4 4 real\n",
      "  1  1  0  1.700000000E+00\n",
      "  1  0  1  1.300000000E+00\n",
      "  1 -1  0  1\n",
      "  1  0 -1  1.800000000E+00\n",
      "end\n",
      "H-representation\n",
      "begin\n",
      " 4 4 real\n",
      "  1.033333333E+01  1 -1.666666667E+00 -6.666666667E+00\n",
      " -27 -7  1 20\n",
      " -3.857142857E+00 -1  1.285714286E+00  2.857142857E+00\n",
      "  6.200000000E+00  2.200000000E+00 -1 -4\n",
      "end\n"
     ]
    }
   ],
   "source": [
    "mat = cdd.Matrix([[1, 1, 0, 1.7], [1, 0, 1, 1.3], [1, -1, 0, 1.0], [1, 0, -1, 1.8]])\n",
    "mat.rep_type = cdd.RepType.GENERATOR\n",
    "poly = cdd.Polyhedron(mat)\n",
    "# The V-representation can be printed in the usual way:\n",
    "gen = poly.get_generators()\n",
    "h = poly.get_inequalities()\n",
    "print(gen)\n",
    "print(h)\n"
   ]
  },
  {
   "cell_type": "code",
   "execution_count": 43,
   "metadata": {},
   "outputs": [
    {
     "ename": "RuntimeError",
     "evalue": "failed to load polyhedra\n*Error: Numerical inconsistency is found.  Use the GMP exact arithmetic.",
     "output_type": "error",
     "traceback": [
      "\u001b[0;31m---------------------------------------------------------------------------\u001b[0m",
      "\u001b[0;31mRuntimeError\u001b[0m                              Traceback (most recent call last)",
      "Cell \u001b[0;32mIn[43], line 4\u001b[0m\n\u001b[1;32m      2\u001b[0m mat \u001b[39m=\u001b[39m cdd\u001b[39m.\u001b[39mMatrix(v, number_type\u001b[39m=\u001b[39m\u001b[39m'\u001b[39m\u001b[39mfloat\u001b[39m\u001b[39m'\u001b[39m)\n\u001b[1;32m      3\u001b[0m mat\u001b[39m.\u001b[39mrep_type \u001b[39m=\u001b[39m cdd\u001b[39m.\u001b[39mRepType\u001b[39m.\u001b[39mGENERATOR\n\u001b[0;32m----> 4\u001b[0m poly \u001b[39m=\u001b[39m cdd\u001b[39m.\u001b[39;49mPolyhedron(mat)\n\u001b[1;32m      5\u001b[0m val \u001b[39m=\u001b[39m poly\u001b[39m.\u001b[39mget_inequalities()\n\u001b[1;32m      6\u001b[0m \u001b[39mprint\u001b[39m(val)\n",
      "File \u001b[0;32mcdd.pyx:859\u001b[0m, in \u001b[0;36mcdd.Polyhedron.__cinit__\u001b[0;34m()\u001b[0m\n",
      "File \u001b[0;32mcdd.pyx:195\u001b[0m, in \u001b[0;36mcdd._raise_error\u001b[0;34m()\u001b[0m\n",
      "\u001b[0;31mRuntimeError\u001b[0m: failed to load polyhedra\n*Error: Numerical inconsistency is found.  Use the GMP exact arithmetic."
     ]
    }
   ],
   "source": [
    "v = np.column_stack((np.ones(len(activations1[:, :5])), activations1[:, :10]))\n",
    "mat = cdd.Matrix(v, number_type='float')\n",
    "mat.rep_type = cdd.RepType.GENERATOR\n",
    "poly = cdd.Polyhedron(mat)\n",
    "val = poly.get_inequalities()\n",
    "print(val)"
   ]
  },
  {
   "cell_type": "code",
   "execution_count": 13,
   "metadata": {},
   "outputs": [],
   "source": [
    "hull1 = get_convex_hull(activations1)\n",
    "hull1"
   ]
  },
  {
   "cell_type": "code",
   "execution_count": 8,
   "metadata": {},
   "outputs": [],
   "source": [
    "hull1 = get_convex_hull(activations1)\n",
    "hull2 = get_convex_hull(activations2)\n",
    "intersection_hull = convex_hull_intersection(activation1_inequality, activation2_inequality)\n",
    "\n",
    "hull1"
   ]
  },
  {
   "cell_type": "code",
   "execution_count": null,
   "metadata": {},
   "outputs": [],
   "source": [
    "hull1.vertices"
   ]
  },
  {
   "cell_type": "code",
   "execution_count": 10,
   "metadata": {},
   "outputs": [],
   "source": [
    "pca = PCA(n_components=2)\n",
    "activations12 = pca.fit_transform(np.concatenate([activations1, activations2]))\n",
    "activations1_pca = activations12[:len(activations1)]\n",
    "activations2_pca = activations12[len(activations1):]"
   ]
  },
  {
   "cell_type": "code",
   "execution_count": 12,
   "metadata": {},
   "outputs": [
    {
     "data": {
      "text/plain": [
       "array([904, 291, 328, 905, 584, 445,  82, 446, 477, 323], dtype=int32)"
      ]
     },
     "execution_count": 12,
     "metadata": {},
     "output_type": "execute_result"
    }
   ],
   "source": [
    "activations1_pca_hull = get_convex_hull(activations1_pca)\n",
    "activations2_pca_hull = get_convex_hull(activations2_pca)\n",
    "\n",
    "activations1_pca_hull.vertices"
   ]
  }
 ],
 "metadata": {
  "kernelspec": {
   "display_name": "activation-pathway-bUO20rvG-py3.10",
   "language": "python",
   "name": "python3"
  },
  "language_info": {
   "codemirror_mode": {
    "name": "ipython",
    "version": 3
   },
   "file_extension": ".py",
   "mimetype": "text/x-python",
   "name": "python",
   "nbconvert_exporter": "python",
   "pygments_lexer": "ipython3",
   "version": "3.10.10"
  },
  "orig_nbformat": 4
 },
 "nbformat": 4,
 "nbformat_minor": 2
}
